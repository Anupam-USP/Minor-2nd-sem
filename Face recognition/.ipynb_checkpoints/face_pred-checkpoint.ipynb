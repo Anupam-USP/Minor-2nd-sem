{
 "cells": [
  {
   "cell_type": "code",
   "execution_count": 1,
   "id": "33ac59ee",
   "metadata": {},
   "outputs": [],
   "source": [
    "from keras.layers import *\n",
    "from keras.applications.vgg19 import VGG19,preprocess_input\n",
    "from keras.preprocessing import image\n",
    "from keras.preprocessing.image import ImageDataGenerator\n",
    "import numpy as np\n",
    "import glob"
   ]
  },
  {
   "cell_type": "code",
   "execution_count": 2,
   "id": "0b626f41",
   "metadata": {},
   "outputs": [],
   "source": [
    "IMAGE_SIZE = [224,224]"
   ]
  },
  {
   "cell_type": "code",
   "execution_count": 4,
   "id": "9dd012db",
   "metadata": {},
   "outputs": [],
   "source": [
    "train_path = r\"./Dataset/Train/\"\n",
    "valid_path = r\"./Dataset/Test/\""
   ]
  },
  {
   "cell_type": "code",
   "execution_count": 5,
   "id": "dce6b6af",
   "metadata": {},
   "outputs": [
    {
     "name": "stdout",
     "output_type": "stream",
     "text": [
      "Downloading data from https://storage.googleapis.com/tensorflow/keras-applications/vgg19/vgg19_weights_tf_dim_ordering_tf_kernels_notop.h5\n",
      "80142336/80134624 [==============================] - 29s 0us/step\n"
     ]
    }
   ],
   "source": [
    "vgg = VGG19(input_shape=IMAGE_SIZE+[3],\n",
    "            weights=\"imagenet\",\n",
    "            include_top=False\n",
    ")"
   ]
  },
  {
   "cell_type": "code",
   "execution_count": null,
   "id": "a105f94d",
   "metadata": {},
   "outputs": [],
   "source": [
    "for layer in vgg.layers:\n",
    "    "
   ]
  }
 ],
 "metadata": {
  "kernelspec": {
   "display_name": "Python 3",
   "language": "python",
   "name": "python3"
  }
 },
 "nbformat": 4,
 "nbformat_minor": 5
}
